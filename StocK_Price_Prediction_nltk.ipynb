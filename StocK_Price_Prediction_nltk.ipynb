{
 "cells": [
  {
   "cell_type": "code",
   "execution_count": null,
   "id": "3dd1b4da",
   "metadata": {},
   "outputs": [],
   "source": [
    "import pandas as pd\n",
    "import numpy as np\n",
    "import re\n",
    "from sklearn.model_selection import train_test_split\n",
    "from sklearn.preprocessing import StandardScaler\n",
    "from sklearn.ensemble import RandomForestRegressor\n",
    "from sklearn.metrics import mean_squared_error\n",
    "from nltk.sentiment.vader import SentimentIntensityAnalyzer\n",
    "import nltk\n",
    "nltk.download('vader_lexicon')"
   ]
  },
  {
   "cell_type": "code",
   "execution_count": null,
   "id": "f1d69c4d",
   "metadata": {},
   "outputs": [],
   "source": [
    "import pandas as pd\n",
    "import numpy as np\n",
    "import string\n",
    "import re\n",
    "from nltk.tokenize import word_tokenize\n",
    "from nltk.corpus import stopwords\n",
    "from nltk.stem import WordNetLemmatizer\n",
    "from sklearn.feature_extraction.text import TfidfVectorizer\n",
    "import nltk\n",
    "nltk.download('punkt')\n",
    "nltk.download('stopwords')\n",
    "nltk.download('wordnet')"
   ]
  },
  {
   "cell_type": "code",
   "execution_count": null,
   "id": "c29a3a5a",
   "metadata": {},
   "outputs": [],
   "source": [
    "news_headlines=pd.read_csv(\"india-news-headlines.csv\")"
   ]
  },
  {
   "cell_type": "code",
   "execution_count": null,
   "id": "2809e552",
   "metadata": {},
   "outputs": [],
   "source": [
    "stock_price_data=pd.read_csv(\"^NSEI (1).csv\")"
   ]
  },
  {
   "cell_type": "code",
   "execution_count": null,
   "id": "a8ad4b5f",
   "metadata": {},
   "outputs": [],
   "source": [
    "stock_price_data.dropna(inplace=True)"
   ]
  },
  {
   "cell_type": "code",
   "execution_count": null,
   "id": "69d9da17",
   "metadata": {},
   "outputs": [],
   "source": [
    "stock_price_data"
   ]
  },
  {
   "cell_type": "code",
   "execution_count": null,
   "id": "6eba1562",
   "metadata": {},
   "outputs": [],
   "source": [
    "from sklearn.preprocessing import StandardScaler\n",
    "from sklearn.compose import ColumnTransformer"
   ]
  },
  {
   "cell_type": "code",
   "execution_count": null,
   "id": "d544ca28",
   "metadata": {},
   "outputs": [],
   "source": [
    "preprocessor=ColumnTransformer(\n",
    "  transformers=[('scaled',StandardScaler(),[1,2,3,4,5,6])], remainder='passthrough'\n",
    ")\n"
   ]
  },
  {
   "cell_type": "code",
   "execution_count": null,
   "id": "f26aac33",
   "metadata": {},
   "outputs": [],
   "source": [
    "stock_price_data=pd.DataFrame(preprocessor.fit_transform(stock_price_data),columns=['Open','High','Low','Close','Adj Close','Volume','Date'])"
   ]
  },
  {
   "cell_type": "code",
   "execution_count": null,
   "id": "b561c49f",
   "metadata": {},
   "outputs": [],
   "source": [
    "from datetime import datetime\n",
    "news_headlines['Date'] = news_headlines['publish_date'].astype(str).apply(lambda x: datetime.strptime(x, \"%Y%m%d\").strftime(\"%Y/%m/%d\"))"
   ]
  },
  {
   "cell_type": "code",
   "execution_count": null,
   "id": "46135abe",
   "metadata": {},
   "outputs": [],
   "source": [
    "news_headlines"
   ]
  },
  {
   "cell_type": "code",
   "execution_count": null,
   "id": "d6e852b5",
   "metadata": {},
   "outputs": [],
   "source": [
    "stock_price_data['MA10'] = stock_price_data['Close'].rolling(window=10).mean()\n",
    "stock_price_data['MA50'] = stock_price_data['Close'].rolling(window=50).mean()\n",
    "stock_price_data['volatility'] = stock_price_data['Close'].rolling(window=10).std()\n",
    "stock_price_data['returns'] = stock_price_data['Close'].pct_change()\n",
    "stock_price_data.dropna(inplace=True)"
   ]
  },
  {
   "cell_type": "code",
   "execution_count": null,
   "id": "220639d7",
   "metadata": {},
   "outputs": [],
   "source": [
    "news_headlines['Date']=pd.to_datetime(news_headlines['Date'])"
   ]
  },
  {
   "cell_type": "code",
   "execution_count": null,
   "id": "572b72c2",
   "metadata": {},
   "outputs": [],
   "source": [
    "news_headlines=news_headlines[news_headlines['Date']>='2007/10/11']"
   ]
  },
  {
   "cell_type": "code",
   "execution_count": null,
   "id": "c9696ede",
   "metadata": {},
   "outputs": [],
   "source": [
    "  news_headlines_grouped = news_headlines.groupby('Date')['headline_text'].apply(' '.join).reset_index()"
   ]
  },
  {
   "cell_type": "code",
   "execution_count": null,
   "id": "9ebfd5e3",
   "metadata": {},
   "outputs": [],
   "source": [
    "def preprocess_news(df):\n",
    "    # Text Cleaning Function\n",
    "    def clean_text(text):\n",
    "        text = text.lower()  # Convert to lowercase\n",
    "        text = re.sub(f'[{re.escape(string.punctuation)}]', '', text)  # Remove punctuation\n",
    "        text = re.sub(r'\\d+', '', text)  # Remove numbers\n",
    "        text = re.sub(r'\\s+', ' ', text)  # Remove extra spaces\n",
    "        return text\n",
    "\n",
    "    # Tokenization\n",
    "    def preprocess_tokens(tokens):\n",
    "        stop_words = set(stopwords.words('english'))\n",
    "        lemmatizer = WordNetLemmatizer()\n",
    "        tokens = [lemmatizer.lemmatize(token) for token in tokens if token not in stop_words]\n",
    "        return tokens\n",
    "\n",
    "    # Clean text\n",
    "    df['cleaned_headline'] = df['headline_text'].apply(clean_text)\n",
    "\n",
    "    # Tokenization\n",
    "    df['tokens'] = df['cleaned_headline'].apply(word_tokenize)\n",
    "\n",
    "    # Stop Words Removal and Lemmatization\n",
    "    df['processed_tokens'] = df['tokens'].apply(preprocess_tokens)\n",
    "\n",
    "    # Convert tokens back to string for vectorization\n",
    "    df['processed_headline'] = df['processed_tokens'].apply(lambda x: ' '.join(x))\n",
    "\n",
    "    # Vectorization using TF-IDF\n",
    "    vectorizer = TfidfVectorizer()\n",
    "    X = vectorizer.fit_transform(df['processed_headline'])\n",
    "\n",
    "    # Convert TF-IDF matrix to DataFrame\n",
    "    tfidf_df = pd.DataFrame(X.toarray(), columns=vectorizer.get_feature_names_out())\n",
    "\n",
    "    # Combine sentiment scores with original DataFrame\n",
    "    df = pd.concat([df, tfidf_df], axis=1)\n",
    "\n",
    "    return df"
   ]
  },
  {
   "cell_type": "code",
   "execution_count": null,
   "id": "c762efe2",
   "metadata": {},
   "outputs": [],
   "source": [
    "sid = SentimentIntensityAnalyzer()\n",
    "news_headlines_grouped['sentiment'] = news_headlines_grouped['headline_text'].apply(lambda x: sid.polarity_scores(x)['compound'])"
   ]
  },
  {
   "cell_type": "code",
   "execution_count": null,
   "id": "91c7e2eb",
   "metadata": {},
   "outputs": [],
   "source": [
    "len(news_headlines_grouped.iloc[0,1])"
   ]
  },
  {
   "cell_type": "code",
   "execution_count": null,
   "id": "f25872f1",
   "metadata": {},
   "outputs": [],
   "source": [
    "processed_news_df = preprocess_news(news_headlines_grouped)"
   ]
  },
  {
   "cell_type": "code",
   "execution_count": null,
   "id": "763f193c",
   "metadata": {},
   "outputs": [],
   "source": [
    "stock_price_data['Date'] = pd.to_datetime(stock_price_data['Date'])\n",
    "news_headlines_grouped['Date'] = pd.to_datetime(news_headlines_grouped['Date'])"
   ]
  },
  {
   "cell_type": "code",
   "execution_count": null,
   "id": "fabd8e36",
   "metadata": {},
   "outputs": [],
   "source": [
    "merged_data = pd.merge(stock_price_data,news_headlines_grouped, on='Date', how='left')\n",
    "merged_data['sentiment'].fillna(0, inplace=True)\n",
    "merged_data.dropna(inplace=True)"
   ]
  },
  {
   "cell_type": "code",
   "execution_count": null,
   "id": "cc376f39",
   "metadata": {},
   "outputs": [],
   "source": [
    "merged_data.corr()"
   ]
  },
  {
   "cell_type": "code",
   "execution_count": null,
   "id": "bb78f630",
   "metadata": {},
   "outputs": [],
   "source": [
    "features = ['MA10', 'MA50','volatility', 'returns', 'sentiment']\n",
    "X = merged_data[features]\n",
    "y = merged_data['Close']\n"
   ]
  },
  {
   "cell_type": "code",
   "execution_count": null,
   "id": "c92dc8ac",
   "metadata": {},
   "outputs": [],
   "source": [
    "features = ['volatility', 'returns', 'sentiment']\n",
    "X1= merged_data[features]\n",
    "y1 = merged_data['Close']"
   ]
  },
  {
   "cell_type": "code",
   "execution_count": null,
   "id": "84f0e4b2",
   "metadata": {},
   "outputs": [],
   "source": [
    "X_train, X_test, y_train, y_test = train_test_split(X, y, test_size=0.2, random_state=42)"
   ]
  },
  {
   "cell_type": "code",
   "execution_count": null,
   "id": "bf689b8a",
   "metadata": {},
   "outputs": [],
   "source": [
    "X1_train, X1_test, y1_train, y1_test = train_test_split(X1, y1, test_size=0.2, random_state=42)"
   ]
  },
  {
   "cell_type": "code",
   "execution_count": null,
   "id": "371a4767",
   "metadata": {},
   "outputs": [],
   "source": [
    "model = RandomForestRegressor(n_estimators=100, random_state=42)\n",
    "model.fit(X_train, y_train)"
   ]
  },
  {
   "cell_type": "code",
   "execution_count": null,
   "id": "8a6843b5",
   "metadata": {},
   "outputs": [],
   "source": [
    "model = RandomForestRegressor(n_estimators=100, random_state=42)\n",
    "model.fit(X1_train, y1_train)"
   ]
  },
  {
   "cell_type": "code",
   "execution_count": null,
   "id": "7257a686",
   "metadata": {},
   "outputs": [],
   "source": [
    "y1_pred = model.predict(X1_test)\n",
    "rmse = np.sqrt(mean_squared_error(y1_test, y1_pred))"
   ]
  },
  {
   "cell_type": "code",
   "execution_count": null,
   "id": "1af2c11a",
   "metadata": {},
   "outputs": [],
   "source": [
    "print(rmse)"
   ]
  },
  {
   "cell_type": "code",
   "execution_count": null,
   "id": "ac33e60a",
   "metadata": {},
   "outputs": [],
   "source": [
    "from sklearn.metrics import make_scorer, mean_squared_error\n",
    "from sklearn.model_selection import cross_val_score, KFold\n",
    "def rmse(y_true, y_pred):\n",
    "    return np.sqrt(mean_squared_error(y_true, y_pred))\n",
    "\n",
    "rmse_scorer = make_scorer(rmse, greater_is_better=False)\n",
    "kf = KFold(n_splits=5, shuffle=True, random_state=42)\n",
    "cv_scores = cross_val_score(model, X1, y1, cv=kf, scoring=rmse_scorer)"
   ]
  },
  {
   "cell_type": "code",
   "execution_count": null,
   "id": "0feea95e",
   "metadata": {},
   "outputs": [],
   "source": [
    "print(-cv_scores.mean())"
   ]
  },
  {
   "cell_type": "code",
   "execution_count": null,
   "id": "fa3f7ebb",
   "metadata": {},
   "outputs": [],
   "source": [
    "import matplotlib.pyplot as plt\n",
    "\n",
    "# Plot predictions vs actual values\n",
    "plt.figure(figsize=(14, 7))\n",
    "plt.plot(y_test, label='Actual Stock Prices')\n",
    "plt.plot(y_pred, label='Predicted Stock Prices')\n",
    "plt.title('Stock Price Prediction')\n",
    "plt.xlabel('Time')\n",
    "plt.ylabel('Stock Price')\n",
    "plt.legend()\n",
    "plt.show()\n"
   ]
  },
  {
   "cell_type": "code",
   "execution_count": null,
   "id": "f5da7da1",
   "metadata": {},
   "outputs": [],
   "source": [
    "import matplotlib.pyplot as plt\n",
    "\n",
    "# Plot predictions vs actual values\n",
    "plt.figure(figsize=(14, 7))\n",
    "plt.plot(y1_test, label='Actual Stock Prices')\n",
    "plt.plot(y1_pred, label='Predicted Stock Prices')\n",
    "plt.title('Stock Price Prediction')\n",
    "plt.xlabel('Time')\n",
    "plt.ylabel('Stock Price')\n",
    "plt.legend()\n",
    "plt.show()"
   ]
  },
  {
   "cell_type": "code",
   "execution_count": null,
   "id": "32c885df",
   "metadata": {},
   "outputs": [],
   "source": []
  }
 ],
 "metadata": {
  "kernelspec": {
   "display_name": "Python 3 (ipykernel)",
   "language": "python",
   "name": "python3"
  },
  "language_info": {
   "codemirror_mode": {
    "name": "ipython",
    "version": 3
   },
   "file_extension": ".py",
   "mimetype": "text/x-python",
   "name": "python",
   "nbconvert_exporter": "python",
   "pygments_lexer": "ipython3",
   "version": "3.9.12"
  }
 },
 "nbformat": 4,
 "nbformat_minor": 5
}
